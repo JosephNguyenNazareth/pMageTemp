{
 "cells": [
  {
   "cell_type": "code",
   "execution_count": 2,
   "metadata": {},
   "outputs": [],
   "source": [
    "import json"
   ]
  },
  {
   "cell_type": "code",
   "execution_count": 4,
   "metadata": {},
   "outputs": [
    {
     "data": {
      "text/plain": [
       "{'Brake System Assembling': [{'name': 'Design brake system blueprint',\n",
       "   'order': 1,\n",
       "   'input': [{'name': 'Brake system mechanical components',\n",
       "     'type': 'artifact'}],\n",
       "   'output': [{'name': 'Brake system with mechanical components',\n",
       "     'type': 'artifact'}],\n",
       "   'role': ['Mechanical Engineer']},\n",
       "  {'name': 'Implement RSDs braking activation',\n",
       "   'order': 1,\n",
       "   'input': [{'name': 'Braking conditions', 'type': 'artifact'},\n",
       "    {'name': 'Remote sensing devices (RSD)', 'type': 'artifact'}],\n",
       "   'output': [{'name': 'Braking recognition program', 'type': 'artifact'}],\n",
       "   'role': ['Embedded System Developer']},\n",
       "  {'name': 'Connect RSD with brake control system',\n",
       "   'order': 2,\n",
       "   'input': [{'name': 'Brake system with mechanical components',\n",
       "     'type': 'artifact'},\n",
       "    {'name': 'Braking recognition program', 'type': 'artifact'}],\n",
       "   'output': [{'name': 'Complete braking system', 'type': 'artifact'}],\n",
       "   'role': ['Mechanical Engineer', 'Embedded System Developer']},\n",
       "  {'name': 'Assemble the system into a prototype vehicle',\n",
       "   'order': 3,\n",
       "   'input': [{'name': 'Complete braking system', 'type': 'artifact'}],\n",
       "   'output': [{'name': 'Prototype vehicle with assmebled brake system',\n",
       "     'type': 'artifact'}],\n",
       "   'role': ['Mechanical Engineer', 'Embedded System Developer']},\n",
       "  {'name': 'Assemble the system into the final version',\n",
       "   'order': 4,\n",
       "   'input': [{'name': 'Prototype vehicle with assmebled brake system',\n",
       "     'type': 'artifact'}],\n",
       "   'output': [{'name': 'Final vehicle with complete braking system',\n",
       "     'type': 'artifact'}],\n",
       "   'role': ['Mechanical Engineer', 'Embedded System Developer']}]}"
      ]
     },
     "execution_count": 4,
     "metadata": {},
     "output_type": "execute_result"
    }
   ],
   "source": [
    "file = open(\"process_model.json\")\n",
    "main_process = json.load(file)\n",
    "main_process"
   ]
  },
  {
   "cell_type": "code",
   "execution_count": 11,
   "metadata": {},
   "outputs": [],
   "source": [
    "def iterate_nested_json_for_loop(json_obj):\n",
    "    for key, value in json_obj.items():\n",
    "        if isinstance(value, dict):\n",
    "            iterate_nested_json_for_loop(value)\n",
    "        elif isinstance(value, list):\n",
    "            print(key)\n",
    "            for element in value:\n",
    "                if isinstance(element, dict):\n",
    "                    iterate_nested_json_for_loop(element)\n",
    "        else:\n",
    "            print(f\"{key}: {value}\") "
   ]
  },
  {
   "cell_type": "code",
   "execution_count": null,
   "metadata": {},
   "outputs": [],
   "source": [
    "def find_key_value(json_obj, find_key):\n",
    "    for key, value in json_obj.items():\n",
    "        if key == find_key:\n",
    "            return value\n",
    "        if isinstance(value, dict):\n",
    "            iterate_nested_json_for_loop(value)\n",
    "        elif isinstance(value, list):\n",
    "            print(key)\n",
    "            for element in value:\n",
    "                if isinstance(element, dict):\n",
    "                    iterate_nested_json_for_loop(element)\n",
    "        else:\n",
    "            print(f\"{key}: {value}\") "
   ]
  },
  {
   "cell_type": "code",
   "execution_count": 12,
   "metadata": {},
   "outputs": [
    {
     "name": "stdout",
     "output_type": "stream",
     "text": [
      "Brake System Assembling\n",
      "name: Design brake system blueprint\n",
      "order: 1\n",
      "input\n",
      "name: Brake system mechanical components\n",
      "type: artifact\n",
      "output\n",
      "name: Brake system with mechanical components\n",
      "type: artifact\n",
      "role\n",
      "name: Implement RSDs braking activation\n",
      "order: 1\n",
      "input\n",
      "name: Braking conditions\n",
      "type: artifact\n",
      "name: Remote sensing devices (RSD)\n",
      "type: artifact\n",
      "output\n",
      "name: Braking recognition program\n",
      "type: artifact\n",
      "role\n",
      "name: Connect RSD with brake control system\n",
      "order: 2\n",
      "input\n",
      "name: Brake system with mechanical components\n",
      "type: artifact\n",
      "name: Braking recognition program\n",
      "type: artifact\n",
      "output\n",
      "name: Complete braking system\n",
      "type: artifact\n",
      "role\n",
      "name: Assemble the system into a prototype vehicle\n",
      "order: 3\n",
      "input\n",
      "name: Complete braking system\n",
      "type: artifact\n",
      "output\n",
      "name: Prototype vehicle with assmebled brake system\n",
      "type: artifact\n",
      "role\n",
      "name: Assemble the system into the final version\n",
      "order: 4\n",
      "input\n",
      "name: Prototype vehicle with assmebled brake system\n",
      "type: artifact\n",
      "output\n",
      "name: Final vehicle with complete braking system\n",
      "type: artifact\n",
      "role\n"
     ]
    }
   ],
   "source": [
    "iterate_nested_json_for_loop(main_process)"
   ]
  },
  {
   "cell_type": "code",
   "execution_count": null,
   "metadata": {},
   "outputs": [],
   "source": [
    "def simulate_process(process_model, nb_case = 100, anomaly_rate = 0.1):\n",
    "    event_structure = [\"task\", \"time\", \"actor\", \"input\", \"output\"]\n",
    "    "
   ]
  }
 ],
 "metadata": {
  "kernelspec": {
   "display_name": "dl",
   "language": "python",
   "name": "python3"
  },
  "language_info": {
   "codemirror_mode": {
    "name": "ipython",
    "version": 3
   },
   "file_extension": ".py",
   "mimetype": "text/x-python",
   "name": "python",
   "nbconvert_exporter": "python",
   "pygments_lexer": "ipython3",
   "version": "3.10.13"
  }
 },
 "nbformat": 4,
 "nbformat_minor": 2
}
