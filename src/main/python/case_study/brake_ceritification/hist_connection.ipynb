{
 "cells": [
  {
   "cell_type": "code",
   "execution_count": null,
   "metadata": {},
   "outputs": [],
   "source": [
    "structure = [\"appName\", \"userNameApp\", \"projectLink\", \"projectDir\", \"pmsName\", \"userNamePms\", \"pmsUrl\", \"processName\"]"
   ]
  }
 ],
 "metadata": {
  "language_info": {
   "name": "python"
  }
 },
 "nbformat": 4,
 "nbformat_minor": 2
}
