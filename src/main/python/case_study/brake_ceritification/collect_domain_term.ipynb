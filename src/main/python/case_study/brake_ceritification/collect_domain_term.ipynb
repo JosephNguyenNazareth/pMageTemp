{
 "cells": [
  {
   "cell_type": "code",
   "execution_count": 71,
   "metadata": {},
   "outputs": [],
   "source": [
    "import requests\n",
    "from bs4 import BeautifulSoup\n",
    "import nltk\n",
    "from nltk.corpus import stopwords\n",
    "from nltk.tokenize import word_tokenize\n",
    "from nltk.stem import WordNetLemmatizer\n",
    "from collections import Counter\n",
    "import string\n",
    "from duckduckgo_search import DDGS\n",
    "import certifi\n",
    "from sklearn.feature_extraction.text import TfidfVectorizer\n",
    "from requests.exceptions import Timeout, RequestException\n",
    "import numpy as np"
   ]
  },
  {
   "cell_type": "code",
   "execution_count": 2,
   "metadata": {},
   "outputs": [
    {
     "name": "stderr",
     "output_type": "stream",
     "text": [
      "[nltk_data] Downloading package punkt to\n",
      "[nltk_data]     C:\\Users\\iohkg\\AppData\\Roaming\\nltk_data...\n",
      "[nltk_data]   Package punkt is already up-to-date!\n",
      "[nltk_data] Downloading package stopwords to\n",
      "[nltk_data]     C:\\Users\\iohkg\\AppData\\Roaming\\nltk_data...\n",
      "[nltk_data]   Package stopwords is already up-to-date!\n",
      "[nltk_data] Downloading package wordnet to\n",
      "[nltk_data]     C:\\Users\\iohkg\\AppData\\Roaming\\nltk_data...\n",
      "[nltk_data]   Package wordnet is already up-to-date!\n"
     ]
    },
    {
     "data": {
      "text/plain": [
       "True"
      ]
     },
     "execution_count": 2,
     "metadata": {},
     "output_type": "execute_result"
    }
   ],
   "source": [
    "# Download necessary NLTK data\n",
    "nltk.download('punkt')\n",
    "nltk.download('stopwords')\n",
    "nltk.download('wordnet')"
   ]
  },
  {
   "cell_type": "code",
   "execution_count": 58,
   "metadata": {},
   "outputs": [],
   "source": [
    "def fetch_search_results(query, count=10):\n",
    "    results = DDGS().text(query, max_results=count)\n",
    "    urls = [result['href'] for result in results]\n",
    "    return urls\n",
    "\n",
    "def fetch_webpage(url, timeout_value = 5):\n",
    "    try:\n",
    "        response = requests.get(url, timeout=timeout_value, verify=False)\n",
    "        response.raise_for_status()  # Raise an error for bad HTTP status codes\n",
    "        if response.status_code == 200:\n",
    "            return response.text\n",
    "    except Timeout:\n",
    "        print(f\"The request timed out after {timeout_value} seconds\")\n",
    "        return None\n",
    "    except RequestException as e:\n",
    "        print(f\"An error occurred: {e}\")\n",
    "        return None\n",
    "\n",
    "def extract_text_from_webpage(html):\n",
    "    soup = BeautifulSoup(html, 'html.parser')\n",
    "    paragraphs = soup.find_all('p')\n",
    "    text = ' '.join([para.get_text() for para in paragraphs])\n",
    "    return text\n",
    "\n",
    "def preprocess_text(text, tfidf=False):\n",
    "    stop_words = set(stopwords.words('english'))\n",
    "    lemmatizer = WordNetLemmatizer()\n",
    "    \n",
    "    # Tokenize\n",
    "    tokens = word_tokenize(text)\n",
    "    \n",
    "    # Remove punctuation and stopwords, and lemmatize\n",
    "    tokens = [lemmatizer.lemmatize(word.lower()) for word in tokens if word.isalpha() and word.lower() not in stop_words]\n",
    "    \n",
    "    if tfidf:\n",
    "        return ' '.join(tokens)\n",
    "    else:\n",
    "        return tokens\n",
    "\n",
    "\n",
    "def get_term_frequencies(tokens):\n",
    "    return Counter(tokens)\n",
    "\n",
    "def fetch_and_extract_text(urls):\n",
    "    texts = []\n",
    "    for url in urls:\n",
    "        html = fetch_webpage(url)\n",
    "        if html:\n",
    "            text = extract_text_from_webpage(html)\n",
    "            texts.append(text)\n",
    "    return texts"
   ]
  },
  {
   "cell_type": "code",
   "execution_count": 54,
   "metadata": {},
   "outputs": [],
   "source": [
    "def extract_common_terms(query, nb_pages = 20, max_features = 100):\n",
    "    urls = fetch_search_results(query, nb_pages)\n",
    "\n",
    "    all_text = \"\"\n",
    "    for url in urls:\n",
    "        html = fetch_webpage(url)\n",
    "        if html:\n",
    "            text = extract_text_from_webpage(html)\n",
    "            all_text += text + \" \"\n",
    "    \n",
    "    tokens = preprocess_text(all_text)\n",
    "    term_frequencies = get_term_frequencies(tokens)\n",
    "    common_terms = term_frequencies.most_common(max_features)\n",
    "\n",
    "    file = open('common_terms.txt', 'w') \n",
    "    file.write(\"\\n\".join([term[0] for term in common_terms])) \n",
    "    file.close() "
   ]
  },
  {
   "cell_type": "code",
   "execution_count": 75,
   "metadata": {},
   "outputs": [],
   "source": [
    "def extract_common_terms_tfidf(query, file_name='common_terms_tfidf.txt', nb_pages = 20, max_features = 100):\n",
    "    urls = fetch_search_results(query, nb_pages)\n",
    "    texts = fetch_and_extract_text(urls)\n",
    "    \n",
    "    vectorizer = TfidfVectorizer(stop_words='english', max_features=max_features)\n",
    "    texts2 = [preprocess_text(text, True) for text in texts]\n",
    "    X = vectorizer.fit_transform(texts2)\n",
    "    feature_names = vectorizer.get_feature_names_out()\n",
    "    tfidf_matrix = X.toarray()\n",
    "    aggregated_tfidf = np.sum(tfidf_matrix, axis=0)\n",
    "\n",
    "    # Create a list of (term, aggregated_tfidf_value) tuples\n",
    "    term_tfidf_pairs = [(feature_names[i], aggregated_tfidf[i]) for i in range(len(feature_names))]\n",
    "\n",
    "    # Sort the list by aggregated_tfidf_value in descending order\n",
    "    sorted_term_tfidf_pairs = sorted(term_tfidf_pairs, key=lambda x: x[1], reverse=True)\n",
    "    file = open(file_name, 'w') \n",
    "    for term, tfidf_value in sorted_term_tfidf_pairs:\n",
    "        file.write(f\"{term},{tfidf_value}\\n\")\n",
    "    file.close() "
   ]
  },
  {
   "cell_type": "code",
   "execution_count": 77,
   "metadata": {},
   "outputs": [
    {
     "name": "stderr",
     "output_type": "stream",
     "text": [
      "c:\\Users\\iohkg\\miniconda3\\envs\\dl\\lib\\site-packages\\urllib3\\connectionpool.py:1103: InsecureRequestWarning: Unverified HTTPS request is being made to host 'work.chron.com'. Adding certificate verification is strongly advised. See: https://urllib3.readthedocs.io/en/latest/advanced-usage.html#tls-warnings\n",
      "  warnings.warn(\n",
      "c:\\Users\\iohkg\\miniconda3\\envs\\dl\\lib\\site-packages\\urllib3\\connectionpool.py:1103: InsecureRequestWarning: Unverified HTTPS request is being made to host 'www.technologyed.com'. Adding certificate verification is strongly advised. See: https://urllib3.readthedocs.io/en/latest/advanced-usage.html#tls-warnings\n",
      "  warnings.warn(\n",
      "c:\\Users\\iohkg\\miniconda3\\envs\\dl\\lib\\site-packages\\urllib3\\connectionpool.py:1103: InsecureRequestWarning: Unverified HTTPS request is being made to host 'www.ase.com'. Adding certificate verification is strongly advised. See: https://urllib3.readthedocs.io/en/latest/advanced-usage.html#tls-warnings\n",
      "  warnings.warn(\n",
      "c:\\Users\\iohkg\\miniconda3\\envs\\dl\\lib\\site-packages\\urllib3\\connectionpool.py:1103: InsecureRequestWarning: Unverified HTTPS request is being made to host 'obdforcar.com'. Adding certificate verification is strongly advised. See: https://urllib3.readthedocs.io/en/latest/advanced-usage.html#tls-warnings\n",
      "  warnings.warn(\n",
      "c:\\Users\\iohkg\\miniconda3\\envs\\dl\\lib\\site-packages\\urllib3\\connectionpool.py:1103: InsecureRequestWarning: Unverified HTTPS request is being made to host 'www.ase.com'. Adding certificate verification is strongly advised. See: https://urllib3.readthedocs.io/en/latest/advanced-usage.html#tls-warnings\n",
      "  warnings.warn(\n",
      "c:\\Users\\iohkg\\miniconda3\\envs\\dl\\lib\\site-packages\\urllib3\\connectionpool.py:1103: InsecureRequestWarning: Unverified HTTPS request is being made to host 'www.tiresplus.com'. Adding certificate verification is strongly advised. See: https://urllib3.readthedocs.io/en/latest/advanced-usage.html#tls-warnings\n",
      "  warnings.warn(\n",
      "c:\\Users\\iohkg\\miniconda3\\envs\\dl\\lib\\site-packages\\urllib3\\connectionpool.py:1103: InsecureRequestWarning: Unverified HTTPS request is being made to host 'www.indeed.com'. Adding certificate verification is strongly advised. See: https://urllib3.readthedocs.io/en/latest/advanced-usage.html#tls-warnings\n",
      "  warnings.warn(\n"
     ]
    },
    {
     "name": "stdout",
     "output_type": "stream",
     "text": [
      "An error occurred: 403 Client Error: Forbidden for url: https://www.indeed.com/career-advice/career-development/mechanic-certification\n"
     ]
    },
    {
     "name": "stderr",
     "output_type": "stream",
     "text": [
      "c:\\Users\\iohkg\\miniconda3\\envs\\dl\\lib\\site-packages\\urllib3\\connectionpool.py:1103: InsecureRequestWarning: Unverified HTTPS request is being made to host 'www.smartautotraining.com'. Adding certificate verification is strongly advised. See: https://urllib3.readthedocs.io/en/latest/advanced-usage.html#tls-warnings\n",
      "  warnings.warn(\n"
     ]
    },
    {
     "name": "stdout",
     "output_type": "stream",
     "text": [
      "An error occurred: 406 Client Error: Not Acceptable for url: https://www.smartautotraining.com/brake-and-lamp-training/\n"
     ]
    },
    {
     "name": "stderr",
     "output_type": "stream",
     "text": [
      "c:\\Users\\iohkg\\miniconda3\\envs\\dl\\lib\\site-packages\\urllib3\\connectionpool.py:1103: InsecureRequestWarning: Unverified HTTPS request is being made to host 'www.wagnerbrake.com'. Adding certificate verification is strongly advised. See: https://urllib3.readthedocs.io/en/latest/advanced-usage.html#tls-warnings\n",
      "  warnings.warn(\n",
      "c:\\Users\\iohkg\\miniconda3\\envs\\dl\\lib\\site-packages\\urllib3\\connectionpool.py:1103: InsecureRequestWarning: Unverified HTTPS request is being made to host 'mymechanic.net'. Adding certificate verification is strongly advised. See: https://urllib3.readthedocs.io/en/latest/advanced-usage.html#tls-warnings\n",
      "  warnings.warn(\n"
     ]
    },
    {
     "name": "stdout",
     "output_type": "stream",
     "text": [
      "An error occurred: 406 Client Error: Not Acceptable for url: https://mymechanic.net/2021/02/02/the-real-truth-behind-ase-certified-mechanics-and-why-it-matters/\n"
     ]
    },
    {
     "name": "stderr",
     "output_type": "stream",
     "text": [
      "c:\\Users\\iohkg\\miniconda3\\envs\\dl\\lib\\site-packages\\urllib3\\connectionpool.py:1103: InsecureRequestWarning: Unverified HTTPS request is being made to host 'www.uti.edu'. Adding certificate verification is strongly advised. See: https://urllib3.readthedocs.io/en/latest/advanced-usage.html#tls-warnings\n",
      "  warnings.warn(\n",
      "c:\\Users\\iohkg\\miniconda3\\envs\\dl\\lib\\site-packages\\urllib3\\connectionpool.py:1103: InsecureRequestWarning: Unverified HTTPS request is being made to host 'www.brakeandfrontend.com'. Adding certificate verification is strongly advised. See: https://urllib3.readthedocs.io/en/latest/advanced-usage.html#tls-warnings\n",
      "  warnings.warn(\n",
      "c:\\Users\\iohkg\\miniconda3\\envs\\dl\\lib\\site-packages\\urllib3\\connectionpool.py:1103: InsecureRequestWarning: Unverified HTTPS request is being made to host 'www.procutusa.com'. Adding certificate verification is strongly advised. See: https://urllib3.readthedocs.io/en/latest/advanced-usage.html#tls-warnings\n",
      "  warnings.warn(\n"
     ]
    },
    {
     "name": "stdout",
     "output_type": "stream",
     "text": [
      "An error occurred: 403 Client Error: Forbidden for url: https://www.brakeandfrontend.com/brakes-101/\n"
     ]
    },
    {
     "name": "stderr",
     "output_type": "stream",
     "text": [
      "c:\\Users\\iohkg\\miniconda3\\envs\\dl\\lib\\site-packages\\urllib3\\connectionpool.py:1103: InsecureRequestWarning: Unverified HTTPS request is being made to host 'www.procutusa.com'. Adding certificate verification is strongly advised. See: https://urllib3.readthedocs.io/en/latest/advanced-usage.html#tls-warnings\n",
      "  warnings.warn(\n",
      "c:\\Users\\iohkg\\miniconda3\\envs\\dl\\lib\\site-packages\\urllib3\\connectionpool.py:1103: InsecureRequestWarning: Unverified HTTPS request is being made to host 'mechanics.stackexchange.com'. Adding certificate verification is strongly advised. See: https://urllib3.readthedocs.io/en/latest/advanced-usage.html#tls-warnings\n",
      "  warnings.warn(\n",
      "c:\\Users\\iohkg\\miniconda3\\envs\\dl\\lib\\site-packages\\urllib3\\connectionpool.py:1103: InsecureRequestWarning: Unverified HTTPS request is being made to host 'www.tripadvisor.co.uk'. Adding certificate verification is strongly advised. See: https://urllib3.readthedocs.io/en/latest/advanced-usage.html#tls-warnings\n",
      "  warnings.warn(\n",
      "c:\\Users\\iohkg\\miniconda3\\envs\\dl\\lib\\site-packages\\urllib3\\connectionpool.py:1103: InsecureRequestWarning: Unverified HTTPS request is being made to host 'www.tripadvisor.com'. Adding certificate verification is strongly advised. See: https://urllib3.readthedocs.io/en/latest/advanced-usage.html#tls-warnings\n",
      "  warnings.warn(\n"
     ]
    },
    {
     "name": "stdout",
     "output_type": "stream",
     "text": [
      "An error occurred: 403 Client Error: Forbidden for url: https://www.tripadvisor.co.uk/ShowTopic-g187191-i1308-k7750539-Car_hire-Rouen_Seine_Maritime_Haute_Normandie_Normandy.html\n",
      "An error occurred: 403 Client Error: Forbidden for url: https://www.tripadvisor.com/ShowTopic-g187179-i607-k7644978-Caen_or_Rouen_for_car_rental-Normandy.html\n"
     ]
    },
    {
     "name": "stderr",
     "output_type": "stream",
     "text": [
      "c:\\Users\\iohkg\\miniconda3\\envs\\dl\\lib\\site-packages\\urllib3\\connectionpool.py:1103: InsecureRequestWarning: Unverified HTTPS request is being made to host 'www.battleofnormandytours.com'. Adding certificate verification is strongly advised. See: https://urllib3.readthedocs.io/en/latest/advanced-usage.html#tls-warnings\n",
      "  warnings.warn(\n",
      "c:\\Users\\iohkg\\miniconda3\\envs\\dl\\lib\\site-packages\\urllib3\\connectionpool.py:1103: InsecureRequestWarning: Unverified HTTPS request is being made to host 'www.frenchentree.com'. Adding certificate verification is strongly advised. See: https://urllib3.readthedocs.io/en/latest/advanced-usage.html#tls-warnings\n",
      "  warnings.warn(\n",
      "c:\\Users\\iohkg\\miniconda3\\envs\\dl\\lib\\site-packages\\urllib3\\connectionpool.py:1103: InsecureRequestWarning: Unverified HTTPS request is being made to host 'www.nytimes.com'. Adding certificate verification is strongly advised. See: https://urllib3.readthedocs.io/en/latest/advanced-usage.html#tls-warnings\n",
      "  warnings.warn(\n",
      "c:\\Users\\iohkg\\miniconda3\\envs\\dl\\lib\\site-packages\\urllib3\\connectionpool.py:1103: InsecureRequestWarning: Unverified HTTPS request is being made to host 'm.youtube.com'. Adding certificate verification is strongly advised. See: https://urllib3.readthedocs.io/en/latest/advanced-usage.html#tls-warnings\n",
      "  warnings.warn(\n"
     ]
    },
    {
     "name": "stdout",
     "output_type": "stream",
     "text": [
      "An error occurred: 403 Client Error: Forbidden for url: https://www.nytimes.com/2024/07/19/technology/microsoft-crowdstrike-outage-what-happened.html\n"
     ]
    },
    {
     "name": "stderr",
     "output_type": "stream",
     "text": [
      "c:\\Users\\iohkg\\miniconda3\\envs\\dl\\lib\\site-packages\\urllib3\\connectionpool.py:1103: InsecureRequestWarning: Unverified HTTPS request is being made to host 'www.youtube.com'. Adding certificate verification is strongly advised. See: https://urllib3.readthedocs.io/en/latest/advanced-usage.html#tls-warnings\n",
      "  warnings.warn(\n",
      "c:\\Users\\iohkg\\miniconda3\\envs\\dl\\lib\\site-packages\\urllib3\\connectionpool.py:1103: InsecureRequestWarning: Unverified HTTPS request is being made to host 'www.aviscarsales.com'. Adding certificate verification is strongly advised. See: https://urllib3.readthedocs.io/en/latest/advanced-usage.html#tls-warnings\n",
      "  warnings.warn(\n",
      "c:\\Users\\iohkg\\miniconda3\\envs\\dl\\lib\\site-packages\\urllib3\\connectionpool.py:1103: InsecureRequestWarning: Unverified HTTPS request is being made to host 'www.china-certification.com'. Adding certificate verification is strongly advised. See: https://urllib3.readthedocs.io/en/latest/advanced-usage.html#tls-warnings\n",
      "  warnings.warn(\n"
     ]
    },
    {
     "name": "stdout",
     "output_type": "stream",
     "text": [
      "An error occurred: 406 Client Error: Not Acceptable for url: http://all-car.com/full-service-brake-light-inspection-center/\n"
     ]
    },
    {
     "name": "stderr",
     "output_type": "stream",
     "text": [
      "c:\\Users\\iohkg\\miniconda3\\envs\\dl\\lib\\site-packages\\urllib3\\connectionpool.py:1103: InsecureRequestWarning: Unverified HTTPS request is being made to host 'medium.com'. Adding certificate verification is strongly advised. See: https://urllib3.readthedocs.io/en/latest/advanced-usage.html#tls-warnings\n",
      "  warnings.warn(\n",
      "c:\\Users\\iohkg\\miniconda3\\envs\\dl\\lib\\site-packages\\urllib3\\connectionpool.py:1103: InsecureRequestWarning: Unverified HTTPS request is being made to host 'www.nationwide.com'. Adding certificate verification is strongly advised. See: https://urllib3.readthedocs.io/en/latest/advanced-usage.html#tls-warnings\n",
      "  warnings.warn(\n",
      "c:\\Users\\iohkg\\miniconda3\\envs\\dl\\lib\\site-packages\\urllib3\\connectionpool.py:1103: InsecureRequestWarning: Unverified HTTPS request is being made to host 'www.ford.com'. Adding certificate verification is strongly advised. See: https://urllib3.readthedocs.io/en/latest/advanced-usage.html#tls-warnings\n",
      "  warnings.warn(\n"
     ]
    },
    {
     "name": "stdout",
     "output_type": "stream",
     "text": [
      "The request timed out after 5 seconds\n"
     ]
    },
    {
     "name": "stderr",
     "output_type": "stream",
     "text": [
      "c:\\Users\\iohkg\\miniconda3\\envs\\dl\\lib\\site-packages\\urllib3\\connectionpool.py:1103: InsecureRequestWarning: Unverified HTTPS request is being made to host 'parmaccs.com'. Adding certificate verification is strongly advised. See: https://urllib3.readthedocs.io/en/latest/advanced-usage.html#tls-warnings\n",
      "  warnings.warn(\n"
     ]
    },
    {
     "name": "stdout",
     "output_type": "stream",
     "text": [
      "An error occurred: 403 Client Error: Forbidden for url: https://parmaccs.com/blog/the-definitive-guide-to-proper-brake-repair-and-maintenance/\n"
     ]
    },
    {
     "name": "stderr",
     "output_type": "stream",
     "text": [
      "c:\\Users\\iohkg\\miniconda3\\envs\\dl\\lib\\site-packages\\urllib3\\connectionpool.py:1103: InsecureRequestWarning: Unverified HTTPS request is being made to host 'themotorguy.com'. Adding certificate verification is strongly advised. See: https://urllib3.readthedocs.io/en/latest/advanced-usage.html#tls-warnings\n",
      "  warnings.warn(\n",
      "c:\\Users\\iohkg\\miniconda3\\envs\\dl\\lib\\site-packages\\urllib3\\connectionpool.py:1103: InsecureRequestWarning: Unverified HTTPS request is being made to host 'www.procutusa.com'. Adding certificate verification is strongly advised. See: https://urllib3.readthedocs.io/en/latest/advanced-usage.html#tls-warnings\n",
      "  warnings.warn(\n",
      "c:\\Users\\iohkg\\miniconda3\\envs\\dl\\lib\\site-packages\\urllib3\\connectionpool.py:1103: InsecureRequestWarning: Unverified HTTPS request is being made to host 'themotorguy.com'. Adding certificate verification is strongly advised. See: https://urllib3.readthedocs.io/en/latest/advanced-usage.html#tls-warnings\n",
      "  warnings.warn(\n",
      "c:\\Users\\iohkg\\miniconda3\\envs\\dl\\lib\\site-packages\\urllib3\\connectionpool.py:1103: InsecureRequestWarning: Unverified HTTPS request is being made to host 'dtsc.ca.gov'. Adding certificate verification is strongly advised. See: https://urllib3.readthedocs.io/en/latest/advanced-usage.html#tls-warnings\n",
      "  warnings.warn(\n",
      "c:\\Users\\iohkg\\miniconda3\\envs\\dl\\lib\\site-packages\\urllib3\\connectionpool.py:1103: InsecureRequestWarning: Unverified HTTPS request is being made to host 'www.mbusa.com'. Adding certificate verification is strongly advised. See: https://urllib3.readthedocs.io/en/latest/advanced-usage.html#tls-warnings\n",
      "  warnings.warn(\n",
      "c:\\Users\\iohkg\\miniconda3\\envs\\dl\\lib\\site-packages\\urllib3\\connectionpool.py:1103: InsecureRequestWarning: Unverified HTTPS request is being made to host 'brakestogo.com'. Adding certificate verification is strongly advised. See: https://urllib3.readthedocs.io/en/latest/advanced-usage.html#tls-warnings\n",
      "  warnings.warn(\n",
      "c:\\Users\\iohkg\\miniconda3\\envs\\dl\\lib\\site-packages\\urllib3\\connectionpool.py:1103: InsecureRequestWarning: Unverified HTTPS request is being made to host 'www.bendix.com'. Adding certificate verification is strongly advised. See: https://urllib3.readthedocs.io/en/latest/advanced-usage.html#tls-warnings\n",
      "  warnings.warn(\n"
     ]
    },
    {
     "name": "stdout",
     "output_type": "stream",
     "text": [
      "An error occurred: 403 Client Error: Forbidden for url: https://brakestogo.com/how-brakes-to-go-works/learn-about-brakes/\n"
     ]
    },
    {
     "name": "stderr",
     "output_type": "stream",
     "text": [
      "c:\\Users\\iohkg\\miniconda3\\envs\\dl\\lib\\site-packages\\urllib3\\connectionpool.py:1103: InsecureRequestWarning: Unverified HTTPS request is being made to host 'www.dmv.ca.gov'. Adding certificate verification is strongly advised. See: https://urllib3.readthedocs.io/en/latest/advanced-usage.html#tls-warnings\n",
      "  warnings.warn(\n",
      "c:\\Users\\iohkg\\miniconda3\\envs\\dl\\lib\\site-packages\\urllib3\\connectionpool.py:1103: InsecureRequestWarning: Unverified HTTPS request is being made to host 'quizlet.com'. Adding certificate verification is strongly advised. See: https://urllib3.readthedocs.io/en/latest/advanced-usage.html#tls-warnings\n",
      "  warnings.warn(\n"
     ]
    },
    {
     "name": "stdout",
     "output_type": "stream",
     "text": [
      "An error occurred: 403 Client Error: Forbidden for url: https://quizlet.com/815991207/brakes-certification-flash-cards/\n"
     ]
    },
    {
     "name": "stderr",
     "output_type": "stream",
     "text": [
      "c:\\Users\\iohkg\\miniconda3\\envs\\dl\\lib\\site-packages\\urllib3\\connectionpool.py:1103: InsecureRequestWarning: Unverified HTTPS request is being made to host 'www.fmcsa.dot.gov'. Adding certificate verification is strongly advised. See: https://urllib3.readthedocs.io/en/latest/advanced-usage.html#tls-warnings\n",
      "  warnings.warn(\n",
      "c:\\Users\\iohkg\\miniconda3\\envs\\dl\\lib\\site-packages\\urllib3\\connectionpool.py:1103: InsecureRequestWarning: Unverified HTTPS request is being made to host 'www.caranddriver.com'. Adding certificate verification is strongly advised. See: https://urllib3.readthedocs.io/en/latest/advanced-usage.html#tls-warnings\n",
      "  warnings.warn(\n"
     ]
    },
    {
     "name": "stdout",
     "output_type": "stream",
     "text": [
      "An error occurred: 403 Client Error: Forbidden for url: https://www.caranddriver.com/shopping-advice/a15102312/what-you-need-to-know-about-certified-pre-owned-cpo-car-programs-feature/\n"
     ]
    },
    {
     "name": "stderr",
     "output_type": "stream",
     "text": [
      "c:\\Users\\iohkg\\miniconda3\\envs\\dl\\lib\\site-packages\\urllib3\\connectionpool.py:1103: InsecureRequestWarning: Unverified HTTPS request is being made to host 'vehicleinspection.nzta.govt.nz'. Adding certificate verification is strongly advised. See: https://urllib3.readthedocs.io/en/latest/advanced-usage.html#tls-warnings\n",
      "  warnings.warn(\n",
      "c:\\Users\\iohkg\\miniconda3\\envs\\dl\\lib\\site-packages\\urllib3\\connectionpool.py:1103: InsecureRequestWarning: Unverified HTTPS request is being made to host 'www.araiindia.com'. Adding certificate verification is strongly advised. See: https://urllib3.readthedocs.io/en/latest/advanced-usage.html#tls-warnings\n",
      "  warnings.warn(\n",
      "c:\\Users\\iohkg\\miniconda3\\envs\\dl\\lib\\site-packages\\urllib3\\connectionpool.py:1103: InsecureRequestWarning: Unverified HTTPS request is being made to host 'www.miramesaauto.com'. Adding certificate verification is strongly advised. See: https://urllib3.readthedocs.io/en/latest/advanced-usage.html#tls-warnings\n",
      "  warnings.warn(\n"
     ]
    },
    {
     "name": "stdout",
     "output_type": "stream",
     "text": [
      "An error occurred: 403 Client Error: Forbidden for url: https://www.miramesaauto.com/brake-lamp-certification-san-diego/\n"
     ]
    },
    {
     "name": "stderr",
     "output_type": "stream",
     "text": [
      "c:\\Users\\iohkg\\miniconda3\\envs\\dl\\lib\\site-packages\\urllib3\\connectionpool.py:1103: InsecureRequestWarning: Unverified HTTPS request is being made to host 'www.nhtsa.gov'. Adding certificate verification is strongly advised. See: https://urllib3.readthedocs.io/en/latest/advanced-usage.html#tls-warnings\n",
      "  warnings.warn(\n",
      "c:\\Users\\iohkg\\miniconda3\\envs\\dl\\lib\\site-packages\\urllib3\\connectionpool.py:1103: InsecureRequestWarning: Unverified HTTPS request is being made to host 'www.hqts.com'. Adding certificate verification is strongly advised. See: https://urllib3.readthedocs.io/en/latest/advanced-usage.html#tls-warnings\n",
      "  warnings.warn(\n",
      "c:\\Users\\iohkg\\miniconda3\\envs\\dl\\lib\\site-packages\\urllib3\\connectionpool.py:1103: InsecureRequestWarning: Unverified HTTPS request is being made to host 'www.ecfr.gov'. Adding certificate verification is strongly advised. See: https://urllib3.readthedocs.io/en/latest/advanced-usage.html#tls-warnings\n",
      "  warnings.warn(\n",
      "c:\\Users\\iohkg\\miniconda3\\envs\\dl\\lib\\site-packages\\urllib3\\connectionpool.py:1103: InsecureRequestWarning: Unverified HTTPS request is being made to host 'unblock.federalregister.gov'. Adding certificate verification is strongly advised. See: https://urllib3.readthedocs.io/en/latest/advanced-usage.html#tls-warnings\n",
      "  warnings.warn(\n",
      "c:\\Users\\iohkg\\miniconda3\\envs\\dl\\lib\\site-packages\\urllib3\\connectionpool.py:1103: InsecureRequestWarning: Unverified HTTPS request is being made to host 'vehicleinspection.nzta.govt.nz'. Adding certificate verification is strongly advised. See: https://urllib3.readthedocs.io/en/latest/advanced-usage.html#tls-warnings\n",
      "  warnings.warn(\n",
      "c:\\Users\\iohkg\\miniconda3\\envs\\dl\\lib\\site-packages\\urllib3\\connectionpool.py:1103: InsecureRequestWarning: Unverified HTTPS request is being made to host 'quizlet.com'. Adding certificate verification is strongly advised. See: https://urllib3.readthedocs.io/en/latest/advanced-usage.html#tls-warnings\n",
      "  warnings.warn(\n",
      "c:\\Users\\iohkg\\miniconda3\\envs\\dl\\lib\\site-packages\\urllib3\\connectionpool.py:1103: InsecureRequestWarning: Unverified HTTPS request is being made to host 'www.dmv.ca.gov'. Adding certificate verification is strongly advised. See: https://urllib3.readthedocs.io/en/latest/advanced-usage.html#tls-warnings\n",
      "  warnings.warn(\n"
     ]
    },
    {
     "name": "stdout",
     "output_type": "stream",
     "text": [
      "An error occurred: 403 Client Error: Forbidden for url: https://quizlet.com/610798328/brakes-certification-flash-cards/\n"
     ]
    },
    {
     "name": "stderr",
     "output_type": "stream",
     "text": [
      "c:\\Users\\iohkg\\miniconda3\\envs\\dl\\lib\\site-packages\\urllib3\\connectionpool.py:1103: InsecureRequestWarning: Unverified HTTPS request is being made to host 'www.michigan.gov'. Adding certificate verification is strongly advised. See: https://urllib3.readthedocs.io/en/latest/advanced-usage.html#tls-warnings\n",
      "  warnings.warn(\n"
     ]
    },
    {
     "name": "stdout",
     "output_type": "stream",
     "text": [
      "An error occurred: 403 Client Error: Forbidden for url: https://www.michigan.gov/sos/all-services/mechanic-testing\n"
     ]
    }
   ],
   "source": [
    "query = \"certification process car brake\"\n",
    "extract_common_terms_tfidf(query, 'common_terms_tfidf.txt', 50, 500)"
   ]
  },
  {
   "cell_type": "code",
   "execution_count": 78,
   "metadata": {},
   "outputs": [
    {
     "name": "stdout",
     "output_type": "stream",
     "text": [
      "https://www.technologyed.com/courses/automotive-brakes-ase-a5-online-training-certification-course/\n",
      "https://work.chron.com/certified-brake-technician-14798.html\n",
      "https://www.ase.com/test-series\n",
      "https://obdforcar.com/get-ase-certified-in-brakes/\n",
      "https://www.tiresplus.com/auto-repair-services/brake-service/technicians-and-process/\n",
      "https://www.traininthefastlane.com/training/brake-system-training/\n",
      "https://www.indeed.com/career-advice/career-development/mechanic-certification\n",
      "https://www.ase.com/dist/docs/Auto-Study-Guide_.pdf\n",
      "https://www.smartautotraining.com/brake-and-lamp-training/\n",
      "https://www.baker.edu/academics/affiliated-institutions/auto-diesel-institute-of-michigan/programs-at-adi/automotive-services-technology-certifcate/\n",
      "https://www.wagnerbrake.com/technical/garage-gurus.html\n",
      "https://www.brakeandfrontend.com/brakes-101/\n",
      "https://www.youtube.com/watch?v=ZB6faF8uiTQ\n",
      "https://www.caranddriver.com/features/a15089224/certified-pre-owned-cpo-vehicle-inspections-explained-feature/\n",
      "https://mechanics.stackexchange.com/questions/9030/does-registering-a-salvaged-car-in-california-require-a-brake-and-light-certifi\n",
      "https://www.tripadvisor.co.uk/ShowTopic-g187191-i1308-k7750539-Car_hire-Rouen_Seine_Maritime_Haute_Normandie_Normandy.html\n",
      "https://www.tripadvisor.com/ShowTopic-g187179-i607-k7644978-Caen_or_Rouen_for_car_rental-Normandy.html\n",
      "https://en.normandie-tourisme.fr/the-normandy-cheese-route/\n",
      "https://www.frenchentree.com/living-in-france/driving/driving-in-france-low-emission-zones-do-i-need-a-critair-sticker/\n",
      "https://www.nytimes.com/2024/07/19/technology/microsoft-crowdstrike-outage-what-happened.html\n",
      "https://aar.com/standards/approval-process.php\n",
      "https://www.china-certification.com/en/automotive-ccc/\n",
      "https://www.procutusa.com/trainsmart.aspx\n",
      "http://all-car.com/full-service-brake-light-inspection-center/\n",
      "https://medium.com/@magickhu/making-brakes-inside-the-auto-brake-lining-process-92354e2e5073\n",
      "https://www.ford.com/used/about-certified/blue-certification/\n",
      "https://www.chp.ca.gov/programs-services/programs/cargo-theft-interdiction-program/salvage-inspection-program\n",
      "https://work.chron.com/federal-air-brake-certification-29926.html\n",
      "https://parmaccs.com/blog/the-definitive-guide-to-proper-brake-repair-and-maintenance/\n",
      "https://themotorguy.com/a-guide-to-bleeding-brakes-methods-and-faqs/\n",
      "https://www.procutusa.com/\n",
      "https://themotorguy.com/how-to-bleed-brakes-a-step-by-step-guide/\n",
      "https://dtsc.ca.gov/scp/brake-pads-frequently-asked-questions/\n",
      "https://brakestogo.com/how-brakes-to-go-works/learn-about-brakes/\n",
      "https://www.procutusa.com/Training.aspx\n",
      "https://www.mbusa.com/content/dam/mb-nafta/us/cpo/CPO-Certifications-Brochure.pdf\n",
      "https://www.bendix.com/en/services-and-support/brake-school/bendix-online-brake-school/\n",
      "https://www.dmv.ca.gov/portal/vehicle-registration/new-registration/junk-revived-salvage-vehicles/\n",
      "https://quizlet.com/815991207/brakes-certification-flash-cards/\n",
      "https://www.fmcsa.dot.gov/certification\n",
      "https://www.fmamfg.org/training/certificates/precision-press-brake\n",
      "https://vehicleinspection.nzta.govt.nz/virms/entry-certification/reference-materials/brake-declaration-templates\n",
      "https://www.caranddriver.com/shopping-advice/a15102312/what-you-need-to-know-about-certified-pre-owned-cpo-car-programs-feature/\n",
      "https://www.araiindia.com/services/certification-and-standardisation\n",
      "https://www.miramesaauto.com/brake-lamp-certification-san-diego/\n",
      "https://www.nhtsa.gov/importing-vehicle/importation-and-certification-faqs\n",
      "https://vehicleinspection.nzta.govt.nz/virms/entry-certification/i-and-c/brakes/inspection-specifications\n",
      "https://www.hqts.com/e-mark-certification/\n",
      "https://www.ecfr.gov/current/title-49/subtitle-B/chapter-III/subchapter-B/part-393/subpart-C\n",
      "https://quizlet.com/610798328/brakes-certification-flash-cards/\n"
     ]
    }
   ],
   "source": [
    "urls = fetch_search_results(query, 50)\n",
    "for url in urls:\n",
    "    print(url)"
   ]
  }
 ],
 "metadata": {
  "kernelspec": {
   "display_name": "dl",
   "language": "python",
   "name": "python3"
  },
  "language_info": {
   "codemirror_mode": {
    "name": "ipython",
    "version": 3
   },
   "file_extension": ".py",
   "mimetype": "text/x-python",
   "name": "python",
   "nbconvert_exporter": "python",
   "pygments_lexer": "ipython3",
   "version": "3.10.13"
  }
 },
 "nbformat": 4,
 "nbformat_minor": 2
}
