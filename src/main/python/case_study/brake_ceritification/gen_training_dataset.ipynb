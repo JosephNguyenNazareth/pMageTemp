{
 "cells": [
  {
   "cell_type": "code",
   "execution_count": 1,
   "metadata": {},
   "outputs": [],
   "source": [
    "import os\n",
    "import numpy as np"
   ]
  },
  {
   "cell_type": "code",
   "execution_count": 2,
   "metadata": {},
   "outputs": [
    {
     "name": "stdout",
     "output_type": "stream",
     "text": [
      "d:\\Pop_Documents\\workspace\\github\\pMage\\src\\main\\python\n"
     ]
    }
   ],
   "source": [
    "### SET DIRECTORY\n",
    "os.chdir(\"../../\")\n",
    "print(os.getcwd())"
   ]
  },
  {
   "cell_type": "code",
   "execution_count": 3,
   "metadata": {},
   "outputs": [],
   "source": [
    "import related_words"
   ]
  },
  {
   "cell_type": "code",
   "execution_count": 4,
   "metadata": {},
   "outputs": [],
   "source": [
    "file_name = \"./case_study/brake_certification/common_terms_tfidf.txt\"\n",
    "file_terms = open(file_name, \"r\")\n",
    "terms = file_terms.readlines()"
   ]
  },
  {
   "cell_type": "code",
   "execution_count": 6,
   "metadata": {},
   "outputs": [
    {
     "name": "stdout",
     "output_type": "stream",
     "text": [
      "['brake', 'vehicle', 'certification', 'ase', 'test', 'car', 'service', 'technician', 'training', 'automotive']\n"
     ]
    }
   ],
   "source": [
    "tokens = [terms[i].split(\",\")[0] for i in range(len(terms))]\n",
    "print(tokens[:10])"
   ]
  },
  {
   "cell_type": "code",
   "execution_count": 7,
   "metadata": {},
   "outputs": [
    {
     "ename": "KeyboardInterrupt",
     "evalue": "",
     "output_type": "error",
     "traceback": [
      "\u001b[1;31m---------------------------------------------------------------------------\u001b[0m",
      "\u001b[1;31mKeyboardInterrupt\u001b[0m                         Traceback (most recent call last)",
      "Cell \u001b[1;32mIn[7], line 1\u001b[0m\n\u001b[1;32m----> 1\u001b[0m related_tokens \u001b[38;5;241m=\u001b[39m \u001b[43mrelated_words\u001b[49m\u001b[38;5;241;43m.\u001b[39;49m\u001b[43mextract_related_words\u001b[49m\u001b[43m(\u001b[49m\u001b[43mtokens\u001b[49m\u001b[43m)\u001b[49m\n",
      "File \u001b[1;32md:\\Pop_Documents\\workspace\\github\\pMage\\src\\main\\python\\related_words.py:52\u001b[0m, in \u001b[0;36mextract_related_words\u001b[1;34m(tokens)\u001b[0m\n\u001b[0;32m     50\u001b[0m related_words_dict \u001b[38;5;241m=\u001b[39m {}\n\u001b[0;32m     51\u001b[0m \u001b[38;5;28;01mfor\u001b[39;00m token \u001b[38;5;129;01min\u001b[39;00m filtered_tokens:\n\u001b[1;32m---> 52\u001b[0m     related_words \u001b[38;5;241m=\u001b[39m \u001b[43mget_related_words_glove\u001b[49m\u001b[43m(\u001b[49m\u001b[43mtoken\u001b[49m\u001b[43m,\u001b[49m\u001b[43m \u001b[49m\u001b[43mglove_model\u001b[49m\u001b[43m)\u001b[49m\n\u001b[0;32m     53\u001b[0m     related_words_dict[token] \u001b[38;5;241m=\u001b[39m related_words\n\u001b[0;32m     55\u001b[0m related_words_only \u001b[38;5;241m=\u001b[39m {}\n",
      "File \u001b[1;32md:\\Pop_Documents\\workspace\\github\\pMage\\src\\main\\python\\related_words.py:34\u001b[0m, in \u001b[0;36mget_related_words_glove\u001b[1;34m(word, model, top_n)\u001b[0m\n\u001b[0;32m     32\u001b[0m \u001b[38;5;28;01mfor\u001b[39;00m other_word, other_embedding \u001b[38;5;129;01min\u001b[39;00m model\u001b[38;5;241m.\u001b[39mitems():\n\u001b[0;32m     33\u001b[0m     \u001b[38;5;28;01mif\u001b[39;00m other_word \u001b[38;5;241m!=\u001b[39m word:\n\u001b[1;32m---> 34\u001b[0m         similarity \u001b[38;5;241m=\u001b[39m \u001b[43mcosine_similarity\u001b[49m\u001b[43m(\u001b[49m\u001b[43mword_embedding\u001b[49m\u001b[43m,\u001b[49m\u001b[43m \u001b[49m\u001b[43mother_embedding\u001b[49m\u001b[43m)\u001b[49m\n\u001b[0;32m     35\u001b[0m         similarities[other_word] \u001b[38;5;241m=\u001b[39m similarity\n\u001b[0;32m     37\u001b[0m sorted_similarities \u001b[38;5;241m=\u001b[39m \u001b[38;5;28msorted\u001b[39m(similarities\u001b[38;5;241m.\u001b[39mitems(), key\u001b[38;5;241m=\u001b[39m\u001b[38;5;28;01mlambda\u001b[39;00m item: item[\u001b[38;5;241m1\u001b[39m], reverse\u001b[38;5;241m=\u001b[39m\u001b[38;5;28;01mTrue\u001b[39;00m)\n",
      "File \u001b[1;32md:\\Pop_Documents\\workspace\\github\\pMage\\src\\main\\python\\related_words.py:21\u001b[0m, in \u001b[0;36mcosine_similarity\u001b[1;34m(vec1, vec2)\u001b[0m\n\u001b[0;32m     19\u001b[0m dot_product \u001b[38;5;241m=\u001b[39m np\u001b[38;5;241m.\u001b[39mdot(vec1, vec2)\n\u001b[0;32m     20\u001b[0m norm1 \u001b[38;5;241m=\u001b[39m np\u001b[38;5;241m.\u001b[39mlinalg\u001b[38;5;241m.\u001b[39mnorm(vec1)\n\u001b[1;32m---> 21\u001b[0m norm2 \u001b[38;5;241m=\u001b[39m \u001b[43mnp\u001b[49m\u001b[38;5;241;43m.\u001b[39;49m\u001b[43mlinalg\u001b[49m\u001b[38;5;241;43m.\u001b[39;49m\u001b[43mnorm\u001b[49m\u001b[43m(\u001b[49m\u001b[43mvec2\u001b[49m\u001b[43m)\u001b[49m\n\u001b[0;32m     22\u001b[0m \u001b[38;5;28;01mreturn\u001b[39;00m dot_product \u001b[38;5;241m/\u001b[39m (norm1 \u001b[38;5;241m*\u001b[39m norm2)\n",
      "File \u001b[1;32m<__array_function__ internals>:200\u001b[0m, in \u001b[0;36mnorm\u001b[1;34m(*args, **kwargs)\u001b[0m\n",
      "File \u001b[1;32mc:\\Users\\iohkg\\miniconda3\\envs\\dl\\lib\\site-packages\\numpy\\linalg\\linalg.py:2511\u001b[0m, in \u001b[0;36mnorm\u001b[1;34m(x, ord, axis, keepdims)\u001b[0m\n\u001b[0;32m   2509\u001b[0m     sqnorm \u001b[38;5;241m=\u001b[39m x_real\u001b[38;5;241m.\u001b[39mdot(x_real) \u001b[38;5;241m+\u001b[39m x_imag\u001b[38;5;241m.\u001b[39mdot(x_imag)\n\u001b[0;32m   2510\u001b[0m \u001b[38;5;28;01melse\u001b[39;00m:\n\u001b[1;32m-> 2511\u001b[0m     sqnorm \u001b[38;5;241m=\u001b[39m \u001b[43mx\u001b[49m\u001b[38;5;241;43m.\u001b[39;49m\u001b[43mdot\u001b[49m\u001b[43m(\u001b[49m\u001b[43mx\u001b[49m\u001b[43m)\u001b[49m\n\u001b[0;32m   2512\u001b[0m ret \u001b[38;5;241m=\u001b[39m sqrt(sqnorm)\n\u001b[0;32m   2513\u001b[0m \u001b[38;5;28;01mif\u001b[39;00m keepdims:\n",
      "\u001b[1;31mKeyboardInterrupt\u001b[0m: "
     ]
    }
   ],
   "source": [
    "related_tokens = related_words.extract_related_words(tokens)"
   ]
  },
  {
   "cell_type": "code",
   "execution_count": null,
   "metadata": {},
   "outputs": [],
   "source": [
    "final_vocab = {}\n",
    "domain_terms = list(related_tokens.keys())\n",
    "for key,value in related_tokens.items():\n",
    "    related_words_2nd_level = related_words.extract_related_words(value)\n",
    "    expanded_related_terms = set(np.concatenate(list(related_words_2nd_level.values())))\n",
    "    final_vocab[key] = list(expanded_related_terms.difference(domain_terms))"
   ]
  },
  {
   "cell_type": "code",
   "execution_count": 41,
   "metadata": {},
   "outputs": [
    {
     "data": {
      "text/plain": [
       "{'brake': ['wheel',\n",
       "  'steering',\n",
       "  'acceleration',\n",
       "  'mechanical',\n",
       "  'wheels',\n",
       "  'traction',\n",
       "  'accelerator',\n",
       "  'pneumatic',\n",
       "  'antilock',\n",
       "  'anti-lock',\n",
       "  'braking',\n",
       "  'hydraulics',\n",
       "  'throttle',\n",
       "  'brakes',\n",
       "  'rear',\n",
       "  'pedals'],\n",
       " 'vehicle': ['truck',\n",
       "  'driving',\n",
       "  'cars',\n",
       "  'armored',\n",
       "  'sedans',\n",
       "  'vehicles',\n",
       "  'automobiles',\n",
       "  'pickup',\n",
       "  'suvs',\n",
       "  'sedan',\n",
       "  'driver',\n",
       "  'car',\n",
       "  'minivan',\n",
       "  'trucks',\n",
       "  'tractor'],\n",
       " 'certification': ['license',\n",
       "  'riaa',\n",
       "  'certify',\n",
       "  'certificates',\n",
       "  'accredited',\n",
       "  'stringent',\n",
       "  'certified',\n",
       "  'required',\n",
       "  'regulations',\n",
       "  'accrediting',\n",
       "  'requirement',\n",
       "  'standards',\n",
       "  'certifications',\n",
       "  'licensure',\n",
       "  'diplomas',\n",
       "  'diploma'],\n",
       " 'ase': ['newstand',\n",
       "  'mdsd',\n",
       "  'cac-40',\n",
       "  'ftse',\n",
       "  'cac',\n",
       "  '0.47',\n",
       "  'imkb-100',\n",
       "  'dax',\n",
       "  '0.21',\n",
       "  'index'],\n",
       " 'test': ['fourth',\n",
       "  'laboratory',\n",
       "  'tested',\n",
       "  'came',\n",
       "  'third',\n",
       "  'cricketer',\n",
       "  'second',\n",
       "  'standardized',\n",
       "  'twenty20',\n",
       "  'evaluation',\n",
       "  'indies',\n",
       "  'detected',\n",
       "  'rugby',\n",
       "  'last',\n",
       "  'cricketers',\n",
       "  'tests',\n",
       "  'samples',\n",
       "  'testing']}"
      ]
     },
     "execution_count": 41,
     "metadata": {},
     "output_type": "execute_result"
    }
   ],
   "source": [
    "final_vocab"
   ]
  },
  {
   "cell_type": "code",
   "execution_count": null,
   "metadata": {},
   "outputs": [],
   "source": [
    "file = open(\"./case_study/brake_ceritification/large_vocab.txt\", 'w') \n",
    "file.write(\"domain,general\\n\")\n",
    "for term, related_set in final_vocab.items():\n",
    "    for related_term in related_set:\n",
    "        file.write(f\"{term},{related_term}\\n\")\n",
    "file.close()"
   ]
  },
  {
   "cell_type": "code",
   "execution_count": 46,
   "metadata": {},
   "outputs": [],
   "source": [
    "file = open(\"./case_study/brake_ceritification/small_vocab.txt\", 'w') \n",
    "file.write(\"domain,general\\n\")\n",
    "for term, related_set in final_vocab.items():\n",
    "    for related_term in related_set:\n",
    "        file.write(f\"{term},{related_term}\\n\")\n",
    "file.close()"
   ]
  }
 ],
 "metadata": {
  "kernelspec": {
   "display_name": "dl",
   "language": "python",
   "name": "python3"
  },
  "language_info": {
   "codemirror_mode": {
    "name": "ipython",
    "version": 3
   },
   "file_extension": ".py",
   "mimetype": "text/x-python",
   "name": "python",
   "nbconvert_exporter": "python",
   "pygments_lexer": "ipython3",
   "version": "3.10.8"
  }
 },
 "nbformat": 4,
 "nbformat_minor": 2
}
