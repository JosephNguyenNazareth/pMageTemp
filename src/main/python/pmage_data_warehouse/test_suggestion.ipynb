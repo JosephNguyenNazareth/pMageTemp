{
 "cells": [
  {
   "cell_type": "code",
   "execution_count": 6,
   "metadata": {},
   "outputs": [],
   "source": [
    "import json\n",
    "import nltk\n",
    "from nltk.corpus import stopwords\n",
    "from nltk.tokenize import word_tokenize\n",
    "from nltk.stem import WordNetLemmatizer\n",
    "import numpy as np\n",
    "from sklearn.feature_extraction.text import TfidfVectorizer\n",
    "import os"
   ]
  },
  {
   "cell_type": "code",
   "execution_count": 8,
   "metadata": {},
   "outputs": [],
   "source": [
    "def preprocess_text(text):\n",
    "    stop_words = set(stopwords.words('english'))\n",
    "    lemmatizer = WordNetLemmatizer()\n",
    "    \n",
    "    # Tokenize\n",
    "    tokens = word_tokenize(text)\n",
    "    \n",
    "    # Remove punctuation and stopwords, and lemmatize\n",
    "    tokens = [lemmatizer.lemmatize(word.lower()) for word in tokens if word.isalpha() and word.lower() not in stop_words]\n",
    "\n",
    "    return tokens"
   ]
  },
  {
   "cell_type": "code",
   "execution_count": 34,
   "metadata": {},
   "outputs": [],
   "source": [
    "def jaccard_similarity(list1, list2):\n",
    "    set1 = set(list1)\n",
    "    set2 = set(list2)\n",
    "    intersection = set1.intersection(set2)\n",
    "    union = set1.union(set2)\n",
    "    return len(intersection) / len(union)"
   ]
  },
  {
   "cell_type": "code",
   "execution_count": 32,
   "metadata": {},
   "outputs": [],
   "source": [
    "def suggest_configuration(new_project_name, username, hist_connections):\n",
    "    new_project_tokens = preprocess_text(new_project_name)\n",
    "    similarity_ranking = []\n",
    "    connection_ranking = {}\n",
    "\n",
    "    # calculate similarity between history connections and the new project name\n",
    "    for connection in hist_connections:\n",
    "        similarity = jaccard_similarity(new_project_tokens, connection[\"representatives\"])\n",
    "        similarity_ranking.append((connection[\"process_instance_id\"], similarity))\n",
    "        connection_ranking[connection[\"process_instance_id\"]] = connection\n",
    "\n",
    "    # descending sort to find top 5 related configurations\n",
    "    final_ranking = sorted(similarity_ranking, key=lambda x: x[1], reverse=True)[:5]\n",
    "    selected_connections = [connection_ranking[top_config[0]] for top_config in final_ranking]\n",
    "    # print(final_ranking, selected_connections)\n",
    "\n",
    "    # if there is user's old configuration in the top five related\n",
    "    # take it\n",
    "    # otherwise, take the most related configuration\n",
    "    for selection in selected_connections:\n",
    "        if selection[\"user_name\"] == username:\n",
    "            return selection\n",
    "\n",
    "    return selected_connections[0]\n",
    "    "
   ]
  },
  {
   "cell_type": "code",
   "execution_count": 12,
   "metadata": {},
   "outputs": [],
   "source": [
    "f = open('./simulated_projects/embedded_connections.json', 'r')\n",
    "data = json.load(f)"
   ]
  },
  {
   "cell_type": "code",
   "execution_count": 17,
   "metadata": {},
   "outputs": [],
   "source": [
    "new_project_name = \"Implement an E-commerce website using ReactJS\"\n",
    "username = \"Clorinde\""
   ]
  },
  {
   "cell_type": "code",
   "execution_count": 35,
   "metadata": {},
   "outputs": [],
   "source": [
    "suggested_config = suggest_configuration(new_project_name, username, data)"
   ]
  },
  {
   "cell_type": "code",
   "execution_count": 36,
   "metadata": {},
   "outputs": [
    {
     "data": {
      "text/plain": [
       "{'timestamp': '2024-07-28T15:49:30.201314',\n",
       " 'process_instance_id': 2,\n",
       " 'project_name': 'Implement E-commerce Web Application',\n",
       " 'project_domain': 'Software Engineering',\n",
       " 'app_name': 'GitHub',\n",
       " 'app_location': 'https://github.com/[Username]/[Project]',\n",
       " 'pms_name': 'BAPE',\n",
       " 'pms_location': 'http://localhost:8081/api/process-instance',\n",
       " 'user_name': 'Lisa',\n",
       " 'tasks': ['Deploy Web Application'],\n",
       " 'representatives': ['deploys',\n",
       "  'implemented',\n",
       "  'online',\n",
       "  'implement',\n",
       "  'applied',\n",
       "  'applications',\n",
       "  'enforce',\n",
       "  'deployed',\n",
       "  'apply',\n",
       "  'web',\n",
       "  'website',\n",
       "  'measures',\n",
       "  'implementation',\n",
       "  'deploy',\n",
       "  'application',\n",
       "  'user',\n",
       "  'deployment',\n",
       "  'troops',\n",
       "  'internet',\n",
       "  'applying',\n",
       "  'users',\n",
       "  'implementing',\n",
       "  'websites',\n",
       "  'deploying']}"
      ]
     },
     "execution_count": 36,
     "metadata": {},
     "output_type": "execute_result"
    }
   ],
   "source": [
    "suggested_config"
   ]
  }
 ],
 "metadata": {
  "kernelspec": {
   "display_name": "dl",
   "language": "python",
   "name": "python3"
  },
  "language_info": {
   "codemirror_mode": {
    "name": "ipython",
    "version": 3
   },
   "file_extension": ".py",
   "mimetype": "text/x-python",
   "name": "python",
   "nbconvert_exporter": "python",
   "pygments_lexer": "ipython3",
   "version": "3.10.8"
  }
 },
 "nbformat": 4,
 "nbformat_minor": 2
}
