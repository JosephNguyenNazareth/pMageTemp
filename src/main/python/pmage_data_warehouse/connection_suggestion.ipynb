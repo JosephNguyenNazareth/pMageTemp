{
 "cells": [
  {
   "cell_type": "code",
   "execution_count": 1,
   "metadata": {},
   "outputs": [],
   "source": [
    "import json\n",
    "import nltk\n",
    "from nltk.corpus import stopwords\n",
    "from nltk.tokenize import word_tokenize\n",
    "from nltk.stem import WordNetLemmatizer\n",
    "import numpy as np\n",
    "from sklearn.feature_extraction.text import TfidfVectorizer\n",
    "import os"
   ]
  },
  {
   "cell_type": "code",
   "execution_count": 2,
   "metadata": {},
   "outputs": [
    {
     "name": "stderr",
     "output_type": "stream",
     "text": [
      "[nltk_data] Downloading package punkt to\n",
      "[nltk_data]     /home/happygaming/nltk_data...\n",
      "[nltk_data]   Package punkt is already up-to-date!\n",
      "[nltk_data] Downloading package stopwords to\n",
      "[nltk_data]     /home/happygaming/nltk_data...\n",
      "[nltk_data]   Package stopwords is already up-to-date!\n",
      "[nltk_data] Downloading package wordnet to\n",
      "[nltk_data]     /home/happygaming/nltk_data...\n",
      "[nltk_data]   Package wordnet is already up-to-date!\n"
     ]
    },
    {
     "data": {
      "text/plain": [
       "True"
      ]
     },
     "execution_count": 2,
     "metadata": {},
     "output_type": "execute_result"
    }
   ],
   "source": [
    "# Download necessary NLTK data\n",
    "nltk.download('punkt')\n",
    "nltk.download('stopwords')\n",
    "nltk.download('wordnet')"
   ]
  },
  {
   "cell_type": "code",
   "execution_count": 3,
   "metadata": {},
   "outputs": [],
   "source": [
    "f = open('./simulated_projects/simulated_connections.json', 'r')\n",
    "data = json.load(f)"
   ]
  },
  {
   "cell_type": "code",
   "execution_count": 4,
   "metadata": {},
   "outputs": [
    {
     "name": "stdout",
     "output_type": "stream",
     "text": [
      "/home/happygaming/workspace/pMage/src/main/python\n"
     ]
    }
   ],
   "source": [
    "os.chdir(\"../\")\n",
    "print(os.getcwd())"
   ]
  },
  {
   "cell_type": "code",
   "execution_count": 5,
   "metadata": {},
   "outputs": [],
   "source": [
    "import related_words"
   ]
  },
  {
   "cell_type": "code",
   "execution_count": 6,
   "metadata": {},
   "outputs": [],
   "source": [
    "def collect_representatives(data):\n",
    "    for connection in data:\n",
    "        connection[\"representatives\"] = [connection[\"project_name\"]] + connection[\"tasks\"]"
   ]
  },
  {
   "cell_type": "code",
   "execution_count": 7,
   "metadata": {},
   "outputs": [],
   "source": [
    "def preprocess_text(text, tfidf=False):\n",
    "    stop_words = set(stopwords.words('english'))\n",
    "    lemmatizer = WordNetLemmatizer()\n",
    "    \n",
    "    # Tokenize\n",
    "    tokens = word_tokenize(text)\n",
    "    \n",
    "    # Remove punctuation and stopwords, and lemmatize\n",
    "    tokens = [lemmatizer.lemmatize(word.lower()) for word in tokens if word.isalpha() and word.lower() not in stop_words]\n",
    "    \n",
    "    if tfidf:\n",
    "        return ' '.join(tokens)\n",
    "    else:\n",
    "        return tokens"
   ]
  },
  {
   "cell_type": "code",
   "execution_count": 8,
   "metadata": {},
   "outputs": [],
   "source": [
    "def extract_common_terms_tfidf(connection_rep, max_features = 10):\n",
    "    vectorizer = TfidfVectorizer(stop_words='english', max_features=max_features)\n",
    "    texts2 = [preprocess_text(text, True) for text in connection_rep]\n",
    "    X = vectorizer.fit_transform(texts2)\n",
    "    feature_names = vectorizer.get_feature_names_out()\n",
    "    tfidf_matrix = X.toarray()\n",
    "    aggregated_tfidf = np.sum(tfidf_matrix, axis=0)\n",
    "\n",
    "    # Create a list of (term, aggregated_tfidf_value) tuples\n",
    "    term_tfidf_pairs = [(feature_names[i], aggregated_tfidf[i]) for i in range(len(feature_names))]\n",
    "\n",
    "    # Sort the list by aggregated_tfidf_value in descending order\n",
    "    sorted_term_tfidf_pairs = sorted(term_tfidf_pairs, key=lambda x: x[1], reverse=True)\n",
    "    \n",
    "    return sorted_term_tfidf_pairs"
   ]
  },
  {
   "cell_type": "code",
   "execution_count": 9,
   "metadata": {},
   "outputs": [],
   "source": [
    "def collect_related_words(tokens):\n",
    "    related_tokens = related_words.extract_related_words(tokens)\n",
    "    expanded_tokens = set(np.concatenate(list(related_tokens.values())))\n",
    "    expanded_tokens.update(list(related_tokens.keys()))\n",
    "\n",
    "    return list(expanded_tokens)"
   ]
  },
  {
   "cell_type": "code",
   "execution_count": 10,
   "metadata": {},
   "outputs": [],
   "source": [
    "new_data = data[:500]"
   ]
  },
  {
   "cell_type": "code",
   "execution_count": 11,
   "metadata": {},
   "outputs": [
    {
     "data": {
      "text/plain": [
       "{'timestamp': '2024-08-03T09:29:58.635053',\n",
       " 'process_instance_id': 275,\n",
       " 'project_name': 'Implement E-commerce Web Application',\n",
       " 'project_domain': 'Software Engineering',\n",
       " 'app_name': 'GitHub',\n",
       " 'app_location': 'https://github.com/[Username]/[Project]',\n",
       " 'pms_name': 'jBPM',\n",
       " 'pms_location': 'http://localhost:8080/kie-server/services/rest',\n",
       " 'user_name': 'Alhaitham',\n",
       " 'tasks': ['Create Controllers Module',\n",
       "  'Connect Database',\n",
       "  'Merge Branches for Final Product',\n",
       "  'Deploy Web Application']}"
      ]
     },
     "execution_count": 11,
     "metadata": {},
     "output_type": "execute_result"
    }
   ],
   "source": [
    "new_data[400]"
   ]
  },
  {
   "cell_type": "code",
   "execution_count": 12,
   "metadata": {},
   "outputs": [],
   "source": [
    "collect_representatives(new_data)\n",
    "for connection in new_data:\n",
    "    common_terms_tfidf = extract_common_terms_tfidf(connection[\"representatives\"])\n",
    "    common_terms = []\n",
    "    for term in common_terms_tfidf:\n",
    "        common_terms.append(term[0]) \n",
    " \n",
    "    connection[\"representatives\"] = collect_related_words(common_terms)"
   ]
  },
  {
   "cell_type": "code",
   "execution_count": 13,
   "metadata": {},
   "outputs": [
    {
     "name": "stdout",
     "output_type": "stream",
     "text": [
      "Simulated data created with 500 interactions.\n"
     ]
    }
   ],
   "source": [
    "# Save data with representative words to a JSON file\n",
    "with open('./pmage_data_warehouse/simulated_projects/embedded_connections2.json', 'w') as outfile:\n",
    "    json.dump(new_data, outfile, indent=4)\n",
    "\n",
    "print(f\"Simulated data created with {len(new_data)} interactions.\")"
   ]
  }
 ],
 "metadata": {
  "kernelspec": {
   "display_name": "dl",
   "language": "python",
   "name": "python3"
  },
  "language_info": {
   "codemirror_mode": {
    "name": "ipython",
    "version": 3
   },
   "file_extension": ".py",
   "mimetype": "text/x-python",
   "name": "python",
   "nbconvert_exporter": "python",
   "pygments_lexer": "ipython3",
   "version": "3.10.8"
  }
 },
 "nbformat": 4,
 "nbformat_minor": 2
}
