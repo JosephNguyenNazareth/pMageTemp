{
 "cells": [
  {
   "cell_type": "code",
   "execution_count": 1,
   "metadata": {},
   "outputs": [],
   "source": [
    "import json\n",
    "import random\n",
    "from datetime import datetime"
   ]
  },
  {
   "cell_type": "code",
   "execution_count": 2,
   "metadata": {},
   "outputs": [],
   "source": [
    "f = open('./simulated_projects/projects.json', 'r')\n",
    "data = json.load(f)"
   ]
  },
  {
   "cell_type": "code",
   "execution_count": 3,
   "metadata": {},
   "outputs": [],
   "source": [
    "projects = data['projects']\n",
    "users = data['users']\n",
    "apps = data['app']\n",
    "pms_systems = data['pms']\n",
    "\n",
    "def get_users_by_domain(domain):\n",
    "    return [user for user in users if user['domain'] == domain]\n",
    "\n",
    "def get_apps_by_domain(domain):\n",
    "    return [app for app in apps if domain in app['domain']]\n",
    "\n",
    "def create_simulated_interaction(project, app, pms, user, process_instance_id, assigned_tasks):\n",
    "    return {\n",
    "        \"timestamp\": datetime.now().isoformat(),\n",
    "        \"process_instance_id\": process_instance_id,\n",
    "        \"project_name\": project['name'],\n",
    "        \"project_domain\": project['domain'],\n",
    "        \"app_name\": app['name'],\n",
    "        \"app_location\": app['location'],\n",
    "        \"pms_name\": pms['name'],\n",
    "        \"pms_location\": pms['location'],\n",
    "        \"user_name\": user['name'],\n",
    "        \"tasks\": assigned_tasks\n",
    "    }"
   ]
  },
  {
   "cell_type": "code",
   "execution_count": 4,
   "metadata": {},
   "outputs": [],
   "source": [
    "simulated_data = []\n",
    "total_connections_needed = 2000\n",
    "min_connections_per_project = 1\n",
    "max_connections_per_project = 2\n",
    "process_instance_id_counter = 1\n",
    "\n",
    "connections_counter = 0\n",
    "stop_signal = False\n",
    "\n",
    "used_combinations = set()\n",
    "\n",
    "while not stop_signal:\n",
    "    for project in projects:\n",
    "        process_instance_id = process_instance_id_counter\n",
    "        process_instance_id_counter += 1\n",
    "        rand_nb_connections = random.randint(min_connections_per_project, max_connections_per_project)\n",
    "\n",
    "        assigned_tasks = []\n",
    "        if rand_nb_connections == 2:\n",
    "            mid_point = random.choice(range(2, len(project[\"task\"]) - 1))\n",
    "            assigned_tasks.append(project[\"task\"][:mid_point])\n",
    "            assigned_tasks.append(project[\"task\"][mid_point:])\n",
    "        else:\n",
    "            assigned_tasks = [project[\"task\"]]\n",
    "\n",
    "        for i in range(rand_nb_connections):\n",
    "            compatible_apps = get_apps_by_domain(project['domain'])\n",
    "            if not compatible_apps:\n",
    "                continue\n",
    "            \n",
    "            app = random.choice(compatible_apps)\n",
    "            pms = random.choice(pms_systems)\n",
    "            available_users = get_users_by_domain(project['domain'])\n",
    "            \n",
    "            if not available_users:\n",
    "                continue\n",
    "            \n",
    "            user = random.choice(available_users)\n",
    "            while (process_instance_id, user['name']) in used_combinations:\n",
    "                user = random.choice(available_users)\n",
    "\n",
    "            interaction = create_simulated_interaction(project, app, pms, user, process_instance_id, assigned_tasks[i])\n",
    "            simulated_data.append(interaction)\n",
    "            used_combinations.add((process_instance_id, user['name']))\n",
    "\n",
    "            connections_counter += 1\n",
    "            if connections_counter == total_connections_needed:\n",
    "                stop_signal = True\n",
    "                break\n",
    "        if stop_signal:\n",
    "            break\n"
   ]
  },
  {
   "cell_type": "code",
   "execution_count": 5,
   "metadata": {},
   "outputs": [
    {
     "name": "stdout",
     "output_type": "stream",
     "text": [
      "Simulated data created with 2000 interactions.\n"
     ]
    }
   ],
   "source": [
    "# Save simulated data to a JSON file\n",
    "with open('./simulated_projects/simulated_connections.json', 'w') as outfile:\n",
    "    json.dump(simulated_data, outfile, indent=4)\n",
    "\n",
    "print(f\"Simulated data created with {len(simulated_data)} interactions.\")"
   ]
  },
  {
   "cell_type": "code",
   "execution_count": null,
   "metadata": {},
   "outputs": [],
   "source": []
  }
 ],
 "metadata": {
  "kernelspec": {
   "display_name": "dl",
   "language": "python",
   "name": "python3"
  },
  "language_info": {
   "codemirror_mode": {
    "name": "ipython",
    "version": 3
   },
   "file_extension": ".py",
   "mimetype": "text/x-python",
   "name": "python",
   "nbconvert_exporter": "python",
   "pygments_lexer": "ipython3",
   "version": "3.10.8"
  }
 },
 "nbformat": 4,
 "nbformat_minor": 2
}
